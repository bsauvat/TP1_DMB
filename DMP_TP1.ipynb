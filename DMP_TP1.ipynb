{
  "nbformat": 4,
  "nbformat_minor": 0,
  "metadata": {
    "colab": {
      "provenance": [],
      "collapsed_sections": [
        "Kq2UnZUuO-CB"
      ]
    },
    "kernelspec": {
      "name": "python3",
      "display_name": "Python 3"
    },
    "language_info": {
      "name": "python"
    }
  },
  "cells": [
    {
      "cell_type": "code",
      "execution_count": null,
      "metadata": {
        "colab": {
          "base_uri": "https://localhost:8080/"
        },
        "id": "ds-wSSsQ52V4",
        "outputId": "a7d24fd0-67c8-41cc-805e-f176cbaec1da"
      },
      "outputs": [
        {
          "output_type": "stream",
          "name": "stdout",
          "text": [
            "Requirement already satisfied: pyspark in /usr/local/lib/python3.10/dist-packages (3.5.0)\n",
            "Requirement already satisfied: py4j==0.10.9.7 in /usr/local/lib/python3.10/dist-packages (from pyspark) (0.10.9.7)\n"
          ]
        }
      ],
      "source": [
        "import pandas as pd\n",
        "\n",
        "!pip install pyspark\n",
        "\n",
        "from pyspark.sql import SparkSession\n",
        "from pyspark.sql.functions import avg, count, max\n"
      ]
    },
    {
      "cell_type": "markdown",
      "source": [
        "# Classement des kills"
      ],
      "metadata": {
        "id": "Kq2UnZUuO-CB"
      }
    },
    {
      "cell_type": "code",
      "source": [
        "# Créer une session Spark\n",
        "spark = SparkSession.builder.appName(\"ExemplePySpark\").getOrCreate()\n",
        "\n",
        "# Chargement du jeu de données\n",
        "data_path = \"./kill_match_stats_final_0.csv\"\n",
        "df = spark.read.csv(data_path, header=True, inferSchema=True)\n",
        "\n",
        "# Sélection des colonnes pertinentes (player_name, player_kills, team_placement)\n",
        "selected_columns = [\"killer_name\",\"match_id\"]\n",
        "df_selected = df.select(selected_columns)\n",
        "\n",
        "df_selected.show()"
      ],
      "metadata": {
        "colab": {
          "base_uri": "https://localhost:8080/"
        },
        "id": "ZsB2rkWT6WRZ",
        "outputId": "dda5f1ef-054f-4ad7-deb4-d9f16c994901"
      },
      "execution_count": null,
      "outputs": [
        {
          "output_type": "stream",
          "name": "stdout",
          "text": [
            "+----------------+--------------------+\n",
            "|     killer_name|            match_id|\n",
            "+----------------+--------------------+\n",
            "| KrazyPortuguese|2U4GBNA0YmnLSqvEy...|\n",
            "|nide2Bxiaojiejie|2U4GBNA0YmnLSqvEy...|\n",
            "|        Ascholes|2U4GBNA0YmnLSqvEy...|\n",
            "|      Weirdo7777|2U4GBNA0YmnLSqvEy...|\n",
            "|       Solayuki1|2U4GBNA0YmnLSqvEy...|\n",
            "|   xuezhiqian717|2U4GBNA0YmnLSqvEy...|\n",
            "|       pdfjkkvjk|2U4GBNA0YmnLSqvEy...|\n",
            "|       xiaogao13|2U4GBNA0YmnLSqvEy...|\n",
            "|       Jingchita|2U4GBNA0YmnLSqvEy...|\n",
            "|    Alexande-999|2U4GBNA0YmnLSqvEy...|\n",
            "|    NameLessisME|2U4GBNA0YmnLSqvEy...|\n",
            "|      Daerljgodi|2U4GBNA0YmnLSqvEy...|\n",
            "|        JoyFeng-|2U4GBNA0YmnLSqvEy...|\n",
            "|    NameLessisME|2U4GBNA0YmnLSqvEy...|\n",
            "|   UrGrandFather|2U4GBNA0YmnLSqvEy...|\n",
            "|   xuezhiqian717|2U4GBNA0YmnLSqvEy...|\n",
            "|   FantasticBoys|2U4GBNA0YmnLSqvEy...|\n",
            "|       PPPIGFEET|2U4GBNA0YmnLSqvEy...|\n",
            "|       EnGliSh22|2U4GBNA0YmnLSqvEy...|\n",
            "|        Bookinga|2U4GBNA0YmnLSqvEy...|\n",
            "+----------------+--------------------+\n",
            "only showing top 20 rows\n",
            "\n"
          ]
        }
      ]
    },
    {
      "cell_type": "code",
      "source": [
        "# Convert DataFrame to RDD and perform transformations\n",
        "rdd = df.rdd.map(lambda x: (x[\"killer_name\"], x[\"match_id\"]))\n",
        "\n",
        "# Calculate the number of games played and the average number of kills per game\n",
        "rdd = rdd.groupByKey().mapValues(lambda x: (len(x),len(set(x))))\n",
        "\n",
        "# Filter errors\n",
        "rdd_kill = rdd.filter(lambda x: x[0] is not None and x[0] != \"None\")\n",
        "\n",
        "# Display the result\n",
        "result = rdd_kill.take(10)\n",
        "for row in result:\n",
        "    #print(row)\n",
        "    print(f\"Killer Name: {row[0]}, Number of Games: {row[1][1]:.2f}, Average Kills per Game: {row[1][0]:.2f}\")\n"
      ],
      "metadata": {
        "colab": {
          "base_uri": "https://localhost:8080/"
        },
        "id": "rFaXX8Hn6g50",
        "outputId": "c0950187-ee1f-4a6e-9775-2f1fe09a0ec2"
      },
      "execution_count": null,
      "outputs": [
        {
          "output_type": "stream",
          "name": "stdout",
          "text": [
            "('KrazyPortuguese', (1, 1))\n",
            "Killer Name: KrazyPortuguese, Number of Games: 1.00, Average Kills per Game: 1.00\n",
            "('nide2Bxiaojiejie', (3, 1))\n",
            "Killer Name: nide2Bxiaojiejie, Number of Games: 1.00, Average Kills per Game: 3.00\n",
            "('Ascholes', (2, 1))\n",
            "Killer Name: Ascholes, Number of Games: 1.00, Average Kills per Game: 2.00\n",
            "('Weirdo7777', (1, 1))\n",
            "Killer Name: Weirdo7777, Number of Games: 1.00, Average Kills per Game: 1.00\n",
            "('Solayuki1', (1, 1))\n",
            "Killer Name: Solayuki1, Number of Games: 1.00, Average Kills per Game: 1.00\n",
            "('xuezhiqian717', (3, 1))\n",
            "Killer Name: xuezhiqian717, Number of Games: 1.00, Average Kills per Game: 3.00\n",
            "('pdfjkkvjk', (1, 1))\n",
            "Killer Name: pdfjkkvjk, Number of Games: 1.00, Average Kills per Game: 1.00\n",
            "('xiaogao13', (2, 1))\n",
            "Killer Name: xiaogao13, Number of Games: 1.00, Average Kills per Game: 2.00\n",
            "('Jingchita', (1, 1))\n",
            "Killer Name: Jingchita, Number of Games: 1.00, Average Kills per Game: 1.00\n",
            "('Alexande-999', (3, 1))\n",
            "Killer Name: Alexande-999, Number of Games: 1.00, Average Kills per Game: 3.00\n"
          ]
        }
      ]
    },
    {
      "cell_type": "code",
      "source": [
        "# Sort the RDD by descending order of average kills\n",
        "sorted_rdd_kill = rdd_kill.sortBy(lambda x: x[1][0], ascending=False)\n",
        "\n",
        "# Display the top 10 results\n",
        "top_10 = sorted_rdd_kill.take(10)\n",
        "for i, row in enumerate(top_10, start=1):\n",
        "    print(f\"{i}. Killer Name: {row[0]}, Number of Games: {row[1][1]:.2f}, Average Kills per Game: {row[1][0]:.2f}\")\n"
      ],
      "metadata": {
        "colab": {
          "base_uri": "https://localhost:8080/"
        },
        "id": "WBSe9zo1A2KL",
        "outputId": "f689d446-e197-4f25-9bdd-e5959b83682e"
      },
      "execution_count": null,
      "outputs": [
        {
          "output_type": "stream",
          "name": "stdout",
          "text": [
            "1. Killer Name: #unknown, Number of Games: 20.00, Average Kills per Game: 154.00\n",
            "2. Killer Name: gogolnyg, Number of Games: 1.00, Average Kills per Game: 62.00\n",
            "3. Killer Name: 651651646, Number of Games: 1.00, Average Kills per Game: 42.00\n",
            "4. Killer Name: EsNmToging, Number of Games: 1.00, Average Kills per Game: 36.00\n",
            "5. Killer Name: MoGu1314, Number of Games: 1.00, Average Kills per Game: 25.00\n",
            "6. Killer Name: s1000r-race, Number of Games: 1.00, Average Kills per Game: 24.00\n",
            "7. Killer Name: KouBxczG, Number of Games: 1.00, Average Kills per Game: 24.00\n",
            "8. Killer Name: Hidden-In-Bushes, Number of Games: 2.00, Average Kills per Game: 22.00\n",
            "9. Killer Name: EVEN1982, Number of Games: 1.00, Average Kills per Game: 20.00\n",
            "10. Killer Name: A_Dadyo_o, Number of Games: 1.00, Average Kills per Game: 20.00\n"
          ]
        }
      ]
    },
    {
      "cell_type": "code",
      "source": [
        "# Filter players with at least 4 games\n",
        "filtered_players_kill = sorted_rdd_kill.filter(lambda x: x[1][1] >= 4)\n",
        "\n",
        "# Process a specific player\n",
        "specific_player_kill = sorted_rdd_kill.filter(lambda x: x[0] == 'gogolnyg')\n",
        "\n",
        "print(\"\\nPlayers with at least 4 games:\")\n",
        "filter = filtered_players_kill.take(10)\n",
        "for i, row in enumerate(filter, start=1):\n",
        "    print(f\"{i}. Killer Name: {row[0]}, Number of Games: {row[1][1]:.2f}, Average Kills per Game: {row[1][0]:.2f}\")\n",
        "\n",
        "print(\"\\nSpecific Player Data:\")\n",
        "specific = specific_player_kill.take(10)\n",
        "for i, row in enumerate(specific, start=1):\n",
        "    print(f\"{i}. Killer Name: {row[0]}, Number of Games: {row[1][1]:.2f}, Average Kills per Game: {row[1][0]:.2f}\")\n",
        "\n",
        "# Stop the Spark session\n",
        "spark.stop()"
      ],
      "metadata": {
        "colab": {
          "base_uri": "https://localhost:8080/"
        },
        "id": "zU9ZgSZZ6-zx",
        "outputId": "7c555c8d-1533-4a09-c123-8f6b219055e2"
      },
      "execution_count": null,
      "outputs": [
        {
          "output_type": "stream",
          "name": "stdout",
          "text": [
            "\n",
            "Players with at least 4 games:\n",
            "1. Killer Name: #unknown, Number of Games: 20.00, Average Kills per Game: 154.00\n",
            "\n",
            "Specific Player Data:\n",
            "1. Killer Name: gogolnyg, Number of Games: 1.00, Average Kills per Game: 62.00\n"
          ]
        }
      ]
    },
    {
      "cell_type": "markdown",
      "source": [
        "#Classement des positions"
      ],
      "metadata": {
        "id": "6-Ena4JKPDtK"
      }
    },
    {
      "cell_type": "code",
      "source": [
        "# Créer une session Spark\n",
        "spark = SparkSession.builder.appName(\"ExemplePySpark\").getOrCreate()\n",
        "\n",
        "# Chargement du jeu de données\n",
        "data_path = \"./agg_match_stats_0.csv\"\n",
        "df = spark.read.csv(data_path, header=True, inferSchema=True)\n",
        "\n",
        "# Sélection des colonnes pertinentes (player_name, player_kills, team_placement)\n",
        "selected_columns = [\"player_name\",\"team_placement\",\"match_id\"]\n",
        "df_selected = df.select(selected_columns)\n",
        "\n",
        "df_selected.show()"
      ],
      "metadata": {
        "id": "D14EqEVCPdLV"
      },
      "execution_count": null,
      "outputs": []
    },
    {
      "cell_type": "code",
      "source": [
        "# Convert DataFrame to RDD and perform transformations\n",
        "rdd = df.rdd.map(lambda x: (x[\"player_name\"],x[\"team_placement\"], x[\"match_id\"]))\n",
        "\n",
        "# Calculate the number of games played and the average placement per game\n",
        "rdd = rdd.groupByKey().mapValues(lambda x: x[1]/len(set(x))))\n",
        "\n",
        "# Filter errors\n",
        "rdd_pos = rdd.filter(lambda x: x[0] is not None and x[0] != \"None\")\n",
        "\n",
        "# Display the result\n",
        "result = rdd_pos.take(10)\n",
        "for row in result:\n",
        "    #print(row)\n",
        "    print(f\"Player Name: {row[0]}, Number of Games: {row[1][1]:.2f}, Average placement per Game: {row[1][0]:.2f}\")"
      ],
      "metadata": {
        "id": "m3aQYjV0P8b4"
      },
      "execution_count": null,
      "outputs": []
    },
    {
      "cell_type": "code",
      "source": [
        "# Sort the RDD by descending order of average placement\n",
        "sorted_rdd_pos = rdd_pos.sortBy(lambda x: x[1][0], ascending=False)\n",
        "\n",
        "# Display the top 10 results\n",
        "top_10 = sorted_rdd_pos.take(10)\n",
        "for i, row in enumerate(top_10, start=1):\n",
        "    print(f\"{i}. Player Name: {row[0]}, Number of Games: {row[1][1]:.2f}, Average placement per Game: {row[1][0]:.2f}\")"
      ],
      "metadata": {
        "id": "kO5RgTsGQDZm"
      },
      "execution_count": null,
      "outputs": []
    },
    {
      "cell_type": "code",
      "source": [
        "# Filter players with at least 4 games\n",
        "filtered_players_pos = sorted_rdd_pos.filter(lambda x: x[1][1] >= 4)\n",
        "\n",
        "# Process a specific player\n",
        "specific_player_pos = sorted_rdd_pos.filter(lambda x: x[0] == 'gogolnyg')\n",
        "\n",
        "print(\"\\nPlayers with at least 4 games:\")\n",
        "filter = filtered_players_pos.take(10)\n",
        "for i, row in enumerate(filter, start=1):\n",
        "    print(f\"{i}. Player Name: {row[0]}, Number of Games: {row[1][1]:.2f}, Average placement per Game: {row[1][0]:.2f}\")\n",
        "\n",
        "print(\"\\nSpecific Player Data:\")\n",
        "specific = specific_player_pos.take(10)\n",
        "for i, row in enumerate(specific, start=1):\n",
        "    print(f\"{i}. player Name: {row[0]}, Number of Games: {row[1][1]:.2f}, Average placement per Game: {row[1][0]:.2f}\")\n",
        "\n",
        "# Stop the Spark session\n",
        "spark.stop()"
      ],
      "metadata": {
        "id": "BlFn4eqAQNLp"
      },
      "execution_count": null,
      "outputs": []
    },
    {
      "cell_type": "markdown",
      "source": [
        "# Classement combiné"
      ],
      "metadata": {
        "id": "w8NtdtqJQxBU"
      }
    },
    {
      "cell_type": "code",
      "source": [
        "# Function to calculate the score based on specified criteria\n",
        "def calculate_score(assists, damage, eliminations, placement):\n",
        "    return 50 * assists + damage + 100 * eliminations + (1000 - 10 * placement)\n",
        "\n",
        "# Create a Spark session\n",
        "spark = SparkSession.builder.appName(\"ExemplePySpark\").getOrCreate()\n",
        "\n",
        "# Load the game data\n",
        "data_path = \"./agg_match_stats_0.csv\"\n",
        "df = spark.read.csv(data_path, header=True, inferSchema=True)\n",
        "\n",
        "# Select relevant columns\n",
        "selected_columns = [\"player_name\", \"player_assists\", \"player_dmg\", \"player_dbno\", \"player_kills\", \"player_placement\"]\n",
        "df_selected = df.select(selected_columns)\n",
        "\n",
        "# Convert DataFrame to RDD and perform transformations\n",
        "rdd = df_selected.rdd.map(lambda x: (x[\"killer_name\"], x[\"player_assists\"], x[\"player_dmg\"], x[\"player_dbno\"], x[\"player_kills\"], x[\"player_placement\"]))\n",
        "\n",
        "# Calculate the score for each player\n",
        "rdd_scores = rdd.map(lambda x: (x[0], calculate_score(x[1], x[2], x[4], x[5])))\n",
        "\n",
        "# Sort the RDD by descending order of scores\n",
        "sorted_rdd_scores = rdd_scores.sortBy(lambda x: x[1], ascending=False)\n",
        "\n",
        "# Display the top 10 results\n",
        "top_10_scores = sorted_rdd_scores.take(10)\n",
        "for i, row in enumerate(top_10_scores, start=1):\n",
        "    print(f\"{i}. Player: {row[0]}, Score: {row[1]:.2f}\")\n",
        "\n",
        "# Stop the Spark session\n",
        "spark.stop()\n"
      ],
      "metadata": {
        "id": "hrBVw539RmOG"
      },
      "execution_count": null,
      "outputs": []
    }
  ]
}